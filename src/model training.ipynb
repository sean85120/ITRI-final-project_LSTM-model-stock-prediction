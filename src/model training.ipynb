{
 "cells": [
  {
   "cell_type": "code",
   "execution_count": 33,
   "id": "4a7561c8",
   "metadata": {},
   "outputs": [],
   "source": [
    "import pandas as pd\n",
    "import numpy as np\n",
    "import seaborn as sns\n",
    "sns.set()\n",
    "import matplotlib.pyplot as plt\n",
    "from sklearn.model_selection import KFold\n",
    "from sklearn import ensemble, metrics\n",
    "from sklearn.metrics import accuracy_score\n",
    "from sklearn.utils import shuffle"
   ]
  },
  {
   "cell_type": "code",
   "execution_count": 34,
   "id": "f453bf73",
   "metadata": {},
   "outputs": [],
   "source": [
    "dataset = pd.read_csv('input/train_finalamend.csv')\n"
   ]
  },
  {
   "cell_type": "code",
   "execution_count": 35,
   "id": "46c07b85",
   "metadata": {},
   "outputs": [
    {
     "data": {
      "text/html": [
       "<div>\n",
       "<style scoped>\n",
       "    .dataframe tbody tr th:only-of-type {\n",
       "        vertical-align: middle;\n",
       "    }\n",
       "\n",
       "    .dataframe tbody tr th {\n",
       "        vertical-align: top;\n",
       "    }\n",
       "\n",
       "    .dataframe thead th {\n",
       "        text-align: right;\n",
       "    }\n",
       "</style>\n",
       "<table border=\"1\" class=\"dataframe\">\n",
       "  <thead>\n",
       "    <tr style=\"text-align: right;\">\n",
       "      <th></th>\n",
       "      <th>Date</th>\n",
       "      <th>sp_Open</th>\n",
       "      <th>sp_Close</th>\n",
       "      <th>nd_Open</th>\n",
       "      <th>nd_Close</th>\n",
       "      <th>dj_Open</th>\n",
       "      <th>dj_Close</th>\n",
       "      <th>ph_Open</th>\n",
       "      <th>ph_Close</th>\n",
       "      <th>label</th>\n",
       "    </tr>\n",
       "  </thead>\n",
       "  <tbody>\n",
       "    <tr>\n",
       "      <th>0</th>\n",
       "      <td>2001-01-02</td>\n",
       "      <td>1320.28</td>\n",
       "      <td>1283.27</td>\n",
       "      <td>2474.16</td>\n",
       "      <td>2291.86</td>\n",
       "      <td>10790.92</td>\n",
       "      <td>10646.15</td>\n",
       "      <td>576.61</td>\n",
       "      <td>570.34</td>\n",
       "      <td>1</td>\n",
       "    </tr>\n",
       "    <tr>\n",
       "      <th>1</th>\n",
       "      <td>2001-01-03</td>\n",
       "      <td>1283.27</td>\n",
       "      <td>1347.56</td>\n",
       "      <td>2254.56</td>\n",
       "      <td>2616.69</td>\n",
       "      <td>10637.42</td>\n",
       "      <td>10945.75</td>\n",
       "      <td>570.34</td>\n",
       "      <td>670.23</td>\n",
       "      <td>1</td>\n",
       "    </tr>\n",
       "    <tr>\n",
       "      <th>2</th>\n",
       "      <td>2001-01-04</td>\n",
       "      <td>1347.56</td>\n",
       "      <td>1333.34</td>\n",
       "      <td>2593.96</td>\n",
       "      <td>2566.83</td>\n",
       "      <td>10944.94</td>\n",
       "      <td>10912.41</td>\n",
       "      <td>670.23</td>\n",
       "      <td>653.80</td>\n",
       "      <td>1</td>\n",
       "    </tr>\n",
       "    <tr>\n",
       "      <th>3</th>\n",
       "      <td>2001-01-05</td>\n",
       "      <td>1333.34</td>\n",
       "      <td>1298.35</td>\n",
       "      <td>2573.11</td>\n",
       "      <td>2407.65</td>\n",
       "      <td>10912.81</td>\n",
       "      <td>10662.01</td>\n",
       "      <td>653.80</td>\n",
       "      <td>617.49</td>\n",
       "      <td>1</td>\n",
       "    </tr>\n",
       "    <tr>\n",
       "      <th>4</th>\n",
       "      <td>2001-01-08</td>\n",
       "      <td>1298.35</td>\n",
       "      <td>1295.86</td>\n",
       "      <td>2388.72</td>\n",
       "      <td>2395.92</td>\n",
       "      <td>10658.73</td>\n",
       "      <td>10621.35</td>\n",
       "      <td>617.49</td>\n",
       "      <td>634.21</td>\n",
       "      <td>1</td>\n",
       "    </tr>\n",
       "  </tbody>\n",
       "</table>\n",
       "</div>"
      ],
      "text/plain": [
       "         Date  sp_Open  sp_Close  nd_Open  nd_Close   dj_Open  dj_Close  \\\n",
       "0  2001-01-02  1320.28   1283.27  2474.16   2291.86  10790.92  10646.15   \n",
       "1  2001-01-03  1283.27   1347.56  2254.56   2616.69  10637.42  10945.75   \n",
       "2  2001-01-04  1347.56   1333.34  2593.96   2566.83  10944.94  10912.41   \n",
       "3  2001-01-05  1333.34   1298.35  2573.11   2407.65  10912.81  10662.01   \n",
       "4  2001-01-08  1298.35   1295.86  2388.72   2395.92  10658.73  10621.35   \n",
       "\n",
       "   ph_Open  ph_Close  label  \n",
       "0   576.61    570.34      1  \n",
       "1   570.34    670.23      1  \n",
       "2   670.23    653.80      1  \n",
       "3   653.80    617.49      1  \n",
       "4   617.49    634.21      1  "
      ]
     },
     "execution_count": 35,
     "metadata": {},
     "output_type": "execute_result"
    }
   ],
   "source": [
    "dataset.head()"
   ]
  },
  {
   "cell_type": "code",
   "execution_count": 36,
   "id": "eb0b3063",
   "metadata": {},
   "outputs": [
    {
     "name": "stdout",
     "output_type": "stream",
     "text": [
      "<class 'pandas.core.frame.DataFrame'>\n",
      "RangeIndex: 5000 entries, 0 to 4999\n",
      "Data columns (total 10 columns):\n",
      " #   Column    Non-Null Count  Dtype  \n",
      "---  ------    --------------  -----  \n",
      " 0   Date      5000 non-null   object \n",
      " 1   sp_Open   5000 non-null   float64\n",
      " 2   sp_Close  5000 non-null   float64\n",
      " 3   nd_Open   5000 non-null   float64\n",
      " 4   nd_Close  5000 non-null   float64\n",
      " 5   dj_Open   5000 non-null   float64\n",
      " 6   dj_Close  5000 non-null   float64\n",
      " 7   ph_Open   5000 non-null   float64\n",
      " 8   ph_Close  5000 non-null   float64\n",
      " 9   label     5000 non-null   int64  \n",
      "dtypes: float64(8), int64(1), object(1)\n",
      "memory usage: 390.8+ KB\n"
     ]
    }
   ],
   "source": [
    "dataset.info()"
   ]
  },
  {
   "cell_type": "code",
   "execution_count": 37,
   "id": "332afd38",
   "metadata": {},
   "outputs": [],
   "source": [
    "# change type to datetime\n",
    "dataset['Date'] = pd.to_datetime(dataset['Date'])"
   ]
  },
  {
   "cell_type": "code",
   "execution_count": 38,
   "id": "e929e22f",
   "metadata": {},
   "outputs": [
    {
     "data": {
      "text/plain": [
       "(5000, 10)"
      ]
     },
     "execution_count": 38,
     "metadata": {},
     "output_type": "execute_result"
    }
   ],
   "source": [
    "dataset.shape\n"
   ]
  },
  {
   "cell_type": "code",
   "execution_count": 39,
   "id": "ad17a78f",
   "metadata": {},
   "outputs": [
    {
     "data": {
      "image/png": "[encoded data removed]",
      "text/plain": [
       "<Figure size 909.725x216 with 1 Axes>"
      ]
     },
     "metadata": {},
     "output_type": "display_data"
    }
   ],
   "source": [
    "# features / label\n",
    "facet = sns.FacetGrid(dataset, hue=\"label\",aspect=4)\n",
    "facet.map(sns.kdeplot,'sp_Open',shade= True)\n",
    "facet.set(xlim=(0, dataset['sp_Open'].max()))\n",
    "facet.add_legend()\n",
    " \n",
    "plt.show()"
   ]
  },
  {
   "cell_type": "code",
   "execution_count": 40,
   "id": "52fbc993",
   "metadata": {
    "scrolled": true
   },
   "outputs": [
    {
     "data": {
      "image/png": "[encoded data removed]",
      "text/plain": [
       "<Figure size 909.725x216 with 1 Axes>"
      ]
     },
     "metadata": {},
     "output_type": "display_data"
    }
   ],
   "source": [
    "# features / label\n",
    "facet = sns.FacetGrid(dataset, hue=\"label\",aspect=4)\n",
    "facet.map(sns.kdeplot,'nd_Open',shade= True)\n",
    "facet.set(xlim=(0, dataset['nd_Open'].max()))\n",
    "facet.add_legend()\n",
    " \n",
    "plt.show()"
   ]
  },
  {
   "cell_type": "code",
   "execution_count": 41,
   "id": "86693760",
   "metadata": {},
   "outputs": [],
   "source": [
    "#設定預測目標變數與解釋變數\n",
    "dataset_data = dataset.drop('label', axis = 1)\n",
    "\n",
    "label = dataset['label']"
   ]
  },
  {
   "cell_type": "code",
   "execution_count": 42,
   "id": "86c145da",
   "metadata": {},
   "outputs": [],
   "source": [
    "#feature標準化\n",
    "minmax_scale = preprocessing.MinMaxScaler(feature_range = (0,1))\n",
    "scaledFeatures = minmax_scale.fit_transform(dataset_data2)\n",
    "\n",
    "scaledFeatures2 = pd.DataFrame(scaledFeatures)"
   ]
  },
  {
   "cell_type": "code",
   "execution_count": 43,
   "id": "b274ceec",
   "metadata": {},
   "outputs": [],
   "source": [
    "kfold = KFold(n_splits = 20, shuffle = True)\n",
    "predicted = []\n",
    "expected = []\n",
    "\n",
    "# # training model _ random forest\n",
    "\n",
    "for train, test in kfold.split(scaledFeatures2):\n",
    "    x_train = scaledFeatures2.iloc[train]\n",
    "    y_train = label.iloc[train]\n",
    "    x_test = scaledFeatures2.iloc[test]\n",
    "    y_test = label.iloc[test]\n",
    "    forest = ensemble.RandomForestClassifier(n_estimators= 250, max_depth=8)\n",
    "    forest = forest.fit(x_train,y_train)\n",
    "    expected.extend(y_test)\n",
    "    predicted.extend(forest.predict(x_test))"
   ]
  },
  {
   "cell_type": "code",
   "execution_count": 44,
   "id": "c36fc94b",
   "metadata": {},
   "outputs": [
    {
     "name": "stdout",
     "output_type": "stream",
     "text": [
      "Macro-average: 0.542566581627218\n",
      "Micro-average: 0.6058\n",
      "              precision    recall  f1-score   support\n",
      "\n",
      "           0       0.65      0.26      0.37      2241\n",
      "           1       0.60      0.89      0.71      2759\n",
      "\n",
      "    accuracy                           0.61      5000\n",
      "   macro avg       0.62      0.57      0.54      5000\n",
      "weighted avg       0.62      0.61      0.56      5000\n",
      "\n",
      "[[ 585 1656]\n",
      " [ 315 2444]]\n",
      "Accuracy: 60.58%\n",
      "Average = macro\n",
      "precision: 0.6230487804878049\n",
      "recall: 0.5734361876647583\n",
      "F1-score: 0.542566581627218\n",
      "\n",
      "\n",
      "Average = micro\n",
      "precision: 0.6058\n",
      "recall: 0.6058\n",
      "F1-score: 0.6058\n",
      "\n",
      "\n",
      "Average = weighted\n",
      "precision: 0.6202566341463415\n",
      "recall: 0.6058\n",
      "F1-score: 0.5601862216041417\n"
     ]
    }
   ],
   "source": [
    "print(\"Macro-average: {0}\".format(metrics.f1_score(expected,predicted,average='macro')))\n",
    "print(\"Micro-average: {0}\".format(metrics.f1_score(expected,predicted,average='micro')))\n",
    "print(metrics.classification_report(expected,predicted))\n",
    "print(metrics.confusion_matrix(expected, predicted))\n",
    "accuracy = accuracy_score(expected, predicted)\n",
    "print(\"Accuracy: %.2f%%\" % (accuracy * 100.0))\n",
    "\n",
    "print(\"Average = macro\")\n",
    "print('precision:',metrics.precision_score(expected, predicted,average='macro')) \n",
    "print('recall:',metrics.recall_score(expected, predicted,average='macro'))\n",
    "print('F1-score:',metrics.f1_score(expected, predicted,labels=[0,1],average='macro'))\n",
    "\n",
    "print(\"\\n\")\n",
    "print(\"Average = micro\")\n",
    "print('precision:', metrics.precision_score(expected, predicted, average='micro')) \n",
    "print('recall:',metrics.recall_score(expected, predicted,average='micro'))\n",
    "print('F1-score:',metrics.f1_score(expected, predicted,labels=[0,1],average='micro'))\n",
    "\n",
    "print(\"\\n\")\n",
    "print(\"Average = weighted\")\n",
    "print('precision:', metrics.precision_score(expected, predicted, average='weighted'))\n",
    "print('recall:',metrics.recall_score(expected, predicted,average='weighted'))\n",
    "print('F1-score:',metrics.f1_score(expected,predicted,labels=[0,1],average='weighted'))\n"
   ]
  },
  {
   "cell_type": "code",
   "execution_count": 45,
   "id": "7257a251",
   "metadata": {},
   "outputs": [],
   "source": [
    "parameters = {\n",
    "    \"n_estimators\":[5,10,50,100,250],\n",
    "    \"max_depth\":[2,4,8,16,32,None]\n",
    "    \n",
    "}"
   ]
  },
  {
   "cell_type": "code",
   "execution_count": 46,
   "id": "ab15db95",
   "metadata": {},
   "outputs": [
    {
     "data": {
      "text/plain": [
       "GridSearchCV(cv=5,\n",
       "             estimator=RandomForestClassifier(max_depth=8, n_estimators=250),\n",
       "             param_grid={'max_depth': [2, 4, 8, 16, 32, None],\n",
       "                         'n_estimators': [5, 10, 50, 100, 250]})"
      ]
     },
     "execution_count": 46,
     "metadata": {},
     "output_type": "execute_result"
    }
   ],
   "source": [
    "from sklearn.model_selection import GridSearchCV\n",
    "cv = GridSearchCV(forest,parameters,cv=5)\n",
    "cv.fit(scaledFeatures2, label.values.ravel())"
   ]
  },
  {
   "cell_type": "code",
   "execution_count": 47,
   "id": "55ccfdda",
   "metadata": {},
   "outputs": [],
   "source": [
    "def display(results):\n",
    "    print(f'Best parameters are: {results.best_params_}')\n",
    "    print(\"\\n\")\n",
    "    mean_score = results.cv_results_['mean_test_score']\n",
    "    std_score = results.cv_results_['std_test_score']\n",
    "    params = results.cv_results_['params']\n",
    "    for mean,std,params in zip(mean_score,std_score,params):\n",
    "        print(f'{round(mean,3)} + or -{round(std,3)} for the {params}')"
   ]
  },
  {
   "cell_type": "code",
   "execution_count": 27,
   "id": "4248cd23",
   "metadata": {},
   "outputs": [
    {
     "name": "stdout",
     "output_type": "stream",
     "text": [
      "Best parameters are: {'max_depth': 2, 'n_estimators': 5}\n",
      "\n",
      "\n",
      "0.513 + or -0.047 for the {'max_depth': 2, 'n_estimators': 5}\n",
      "0.476 + or -0.063 for the {'max_depth': 2, 'n_estimators': 10}\n",
      "0.502 + or -0.062 for the {'max_depth': 2, 'n_estimators': 50}\n",
      "0.502 + or -0.061 for the {'max_depth': 2, 'n_estimators': 100}\n",
      "0.501 + or -0.062 for the {'max_depth': 2, 'n_estimators': 250}\n",
      "0.462 + or -0.045 for the {'max_depth': 4, 'n_estimators': 5}\n",
      "0.451 + or -0.051 for the {'max_depth': 4, 'n_estimators': 10}\n",
      "0.456 + or -0.048 for the {'max_depth': 4, 'n_estimators': 50}\n",
      "0.448 + or -0.052 for the {'max_depth': 4, 'n_estimators': 100}\n",
      "0.452 + or -0.051 for the {'max_depth': 4, 'n_estimators': 250}\n",
      "0.434 + or -0.066 for the {'max_depth': 8, 'n_estimators': 5}\n",
      "0.434 + or -0.063 for the {'max_depth': 8, 'n_estimators': 10}\n",
      "0.44 + or -0.056 for the {'max_depth': 8, 'n_estimators': 50}\n",
      "0.438 + or -0.057 for the {'max_depth': 8, 'n_estimators': 100}\n",
      "0.44 + or -0.056 for the {'max_depth': 8, 'n_estimators': 250}\n",
      "0.45 + or -0.053 for the {'max_depth': 16, 'n_estimators': 5}\n",
      "0.447 + or -0.059 for the {'max_depth': 16, 'n_estimators': 10}\n",
      "0.437 + or -0.059 for the {'max_depth': 16, 'n_estimators': 50}\n",
      "0.446 + or -0.054 for the {'max_depth': 16, 'n_estimators': 100}\n",
      "0.441 + or -0.056 for the {'max_depth': 16, 'n_estimators': 250}\n",
      "0.432 + or -0.065 for the {'max_depth': 32, 'n_estimators': 5}\n",
      "0.445 + or -0.059 for the {'max_depth': 32, 'n_estimators': 10}\n",
      "0.445 + or -0.055 for the {'max_depth': 32, 'n_estimators': 50}\n",
      "0.445 + or -0.056 for the {'max_depth': 32, 'n_estimators': 100}\n",
      "0.443 + or -0.056 for the {'max_depth': 32, 'n_estimators': 250}\n",
      "0.435 + or -0.061 for the {'max_depth': None, 'n_estimators': 5}\n",
      "0.444 + or -0.06 for the {'max_depth': None, 'n_estimators': 10}\n",
      "0.453 + or -0.054 for the {'max_depth': None, 'n_estimators': 50}\n",
      "0.441 + or -0.057 for the {'max_depth': None, 'n_estimators': 100}\n",
      "0.444 + or -0.057 for the {'max_depth': None, 'n_estimators': 250}\n"
     ]
    }
   ],
   "source": [
    "display(cv)"
   ]
  },
  {
   "cell_type": "code",
   "execution_count": 28,
   "id": "6050610e",
   "metadata": {},
   "outputs": [
    {
     "data": {
      "text/plain": [
       "array([0.1298997 , 0.132028  , 0.11857487, 0.12037718, 0.12283175,\n",
       "       0.12511518, 0.12966244, 0.12151088])"
      ]
     },
     "execution_count": 28,
     "metadata": {},
     "output_type": "execute_result"
    }
   ],
   "source": [
    "forest.feature_importances_ "
   ]
  },
  {
   "cell_type": "code",
   "execution_count": 31,
   "id": "1808eb6a",
   "metadata": {},
   "outputs": [],
   "source": [
    "testset = pd.read_csv('input/sp500_data_test.csv')\n",
    "testset = testset.drop('Date', axis=1)"
   ]
  },
  {
   "cell_type": "code",
   "execution_count": 32,
   "id": "cb0105a2",
   "metadata": {},
   "outputs": [
    {
     "name": "stderr",
     "output_type": "stream",
     "text": [
      "/Users/sean/opt/miniconda3/envs/py38/lib/python3.8/site-packages/sklearn/base.py:443: UserWarning: X has feature names, but RandomForestClassifier was fitted without feature names\n",
      "  warnings.warn(\n"
     ]
    },
    {
     "data": {
      "text/plain": [
       "array([0, 0, 0, 0, 0, 0, 0, 0, 0, 0, 0, 0, 0, 0, 0, 0, 0, 0, 0, 0, 0, 0,\n",
       "       0, 0, 0, 0, 0, 0, 0, 0, 0, 0, 0, 0, 0, 0, 0, 0, 0, 0, 0, 0, 0, 0,\n",
       "       0, 0, 0, 0, 0, 0, 0, 0, 0, 0, 0, 0, 0, 0, 0, 0, 0, 0, 0, 0, 0, 0,\n",
       "       0, 0, 0, 0, 0, 0, 0, 0, 0, 0, 0, 0, 0, 0, 0, 0, 0, 0, 0, 0, 0, 0,\n",
       "       0, 0, 0, 0, 0, 0, 0, 0, 0, 0, 0, 0, 0, 0, 0, 0, 0, 0, 0, 0, 0, 0,\n",
       "       0, 0, 0, 0, 0, 0, 0, 0, 0, 0, 0, 0, 0, 0, 0, 0, 0, 0, 0, 0, 0, 0,\n",
       "       0, 0, 0, 0, 0, 0, 0, 0, 0, 0, 0, 0, 0, 0, 0, 0, 0, 0, 0, 0, 0, 0,\n",
       "       0, 0, 0, 0, 0, 0, 0, 0, 0, 0, 0, 0, 0, 0, 0, 0, 0, 0, 0, 0, 0, 0,\n",
       "       0, 0, 0, 0, 0, 0, 0, 0, 0, 0, 0, 0, 0, 0, 0, 0, 0, 0, 0, 0, 0, 0,\n",
       "       0, 0, 0, 0, 0, 0, 0, 0, 0, 0, 0, 0, 0, 0, 0, 0, 0, 0, 0, 0, 0, 0,\n",
       "       0, 0, 0, 0, 0, 0, 0, 0, 0, 0, 0, 0, 0, 0, 0, 0, 0, 0, 0, 0, 0, 0,\n",
       "       0, 0, 0, 0, 0, 0, 0, 0, 0, 0, 0, 0, 0, 0, 0, 0, 0, 0, 0, 0, 0, 0,\n",
       "       0, 0, 0, 0, 0, 0, 0, 0, 0, 0, 0, 0, 0, 0, 0, 0, 0, 0, 0, 0, 0, 0])"
      ]
     },
     "execution_count": 32,
     "metadata": {},
     "output_type": "execute_result"
    }
   ],
   "source": [
    "result = forest.predict(testset)\n",
    "result"
   ]
  },
  {
   "cell_type": "code",
   "execution_count": null,
   "id": "caa6e63b",
   "metadata": {},
   "outputs": [],
   "source": []
  }
 ],
 "metadata": {
  "kernelspec": {
   "display_name": "Python 3 (ipykernel)",
   "language": "python",
   "name": "python3"
  },
  "language_info": {
   "codemirror_mode": {
    "name": "ipython",
    "version": 3
   },
   "file_extension": ".py",
   "mimetype": "text/x-python",
   "name": "python",
   "nbconvert_exporter": "python",
   "pygments_lexer": "ipython3",
   "version": "3.8.12"
  }
 },
 "nbformat": 4,
 "nbformat_minor": 5
}
