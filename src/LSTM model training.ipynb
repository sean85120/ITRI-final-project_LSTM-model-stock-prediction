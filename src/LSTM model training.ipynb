{
 "cells": [
  {
   "cell_type": "code",
   "execution_count": 1,
   "id": "3176cccb",
   "metadata": {},
   "outputs": [],
   "source": [
    "import pandas as pd\n",
    "import numpy as np\n",
    "import seaborn as sns\n",
    "sns.set()\n",
    "import matplotlib.pyplot as plt"
   ]
  },
  {
   "cell_type": "code",
   "execution_count": 2,
   "id": "2e37f357",
   "metadata": {},
   "outputs": [],
   "source": [
    "dataset = pd.read_csv('input/train_finalamend2.csv')\n",
    "\n",
    "label = dataset.label"
   ]
  },
  {
   "cell_type": "code",
   "execution_count": 3,
   "id": "b1d0b059",
   "metadata": {},
   "outputs": [],
   "source": [
    "dataset['sp_trend'] = np.where(dataset.sp_Close.shift(-5) > dataset.sp_Close, 1, 0)\n",
    "dataset['nd_trend'] = np.where(dataset.nd_Close.shift(-5) > dataset.nd_Close, 1, 0)\n",
    "dataset['dj_trend'] = np.where(dataset.dj_Close.shift(-5) > dataset.dj_Close, 1, 0)\n",
    "dataset['ph_trend'] = np.where(dataset.ph_Close.shift(-5) > dataset.ph_Close, 1, 0)"
   ]
  },
  {
   "cell_type": "code",
   "execution_count": 4,
   "id": "79487645",
   "metadata": {},
   "outputs": [
    {
     "data": {
      "text/plain": [
       "<bound method DataFrame.info of             Date  sp_Open  sp_High   sp_Low  sp_Close   nd_Open   nd_High  \\\n",
       "0     2001-01-02  1320.28  1320.28  1276.05   1283.27   2474.16   2474.16   \n",
       "1     2001-01-03  1283.27  1347.76  1274.62   1347.56   2254.56   2618.03   \n",
       "2     2001-01-04  1347.56  1350.24  1329.14   1333.34   2593.96   2644.80   \n",
       "3     2001-01-05  1333.34  1334.77  1294.95   1298.35   2573.11   2574.62   \n",
       "4     2001-01-08  1298.35  1298.35  1276.29   1295.86   2388.72   2397.06   \n",
       "...          ...      ...      ...      ...       ...       ...       ...   \n",
       "4995  2021-12-23  4703.96  4740.74  4703.96   4725.79  15544.79  15697.98   \n",
       "4996  2021-12-27  4733.99  4791.49  4733.99   4791.19  15696.83  15871.40   \n",
       "4997  2021-12-28  4795.49  4807.02  4780.04   4786.35  15895.20  15901.47   \n",
       "4998  2021-12-29  4788.64  4804.06  4778.08   4793.06  15794.92  15821.81   \n",
       "4999  2021-12-31  4775.21  4786.83  4765.75   4766.18  15722.91  15777.43   \n",
       "\n",
       "        nd_Low  nd_Close   dj_Open  ...    dj_Low  dj_Close  ph_Open  ph_High  \\\n",
       "0      2273.07   2291.86  10790.92  ...  10585.36  10646.15   576.61   595.58   \n",
       "1      2251.71   2616.69  10637.42  ...  10581.09  10945.75   570.34   670.55   \n",
       "2      2549.83   2566.83  10944.94  ...  10888.42  10912.41   670.23   684.79   \n",
       "3      2395.39   2407.65  10912.81  ...  10627.75  10662.01   653.80   660.27   \n",
       "4      2299.65   2395.92  10658.73  ...  10516.02  10621.35   617.49   634.61   \n",
       "...        ...       ...       ...  ...       ...       ...      ...      ...   \n",
       "4995  15528.91  15653.37  35782.42  ...  35782.42  35950.56  3906.82  3955.54   \n",
       "4996  15696.83  15871.26  35954.48  ...  35954.48  36302.38  3945.99  4040.63   \n",
       "4997  15757.07  15781.72  36302.99  ...  36302.99  36398.21  4052.83  4054.99   \n",
       "4998  15679.85  15766.22  36421.14  ...  36396.19  36488.63  3995.46  4023.99   \n",
       "4999  15643.94  15644.97  36385.85  ...  36303.97  36338.30  3960.46  3987.55   \n",
       "\n",
       "       ph_Low  ph_Close  sp_trend  nd_trend  dj_trend  ph_trend  \n",
       "0      558.74    570.34         1         1         0         1  \n",
       "1      556.49    670.23         0         0         0         0  \n",
       "2      643.44    653.80         0         1         0         1  \n",
       "3      611.98    617.49         1         1         0         1  \n",
       "4      590.43    634.21         1         1         1         1  \n",
       "...       ...       ...       ...       ...       ...       ...  \n",
       "4995  3906.82   3932.39         0         0         0         0  \n",
       "4996  3945.99   4039.51         0         0         0         0  \n",
       "4997  3977.72   3992.19         0         0         0         0  \n",
       "4998  3979.19   3999.35         0         0         0         0  \n",
       "4999  3944.82   3946.17         0         0         0         0  \n",
       "\n",
       "[5000 rows x 21 columns]>"
      ]
     },
     "execution_count": 4,
     "metadata": {},
     "output_type": "execute_result"
    }
   ],
   "source": [
    "dataset = dataset.drop('label', axis=1)\n",
    "\n",
    "dataset.info"
   ]
  },
  {
   "cell_type": "code",
   "execution_count": 5,
   "id": "a9195c8e",
   "metadata": {},
   "outputs": [
    {
     "data": {
      "text/plain": [
       "(5000, 20)"
      ]
     },
     "execution_count": 5,
     "metadata": {},
     "output_type": "execute_result"
    }
   ],
   "source": [
    "training_set = dataset.iloc[:,1:].values\n",
    "training_set.shape\n"
   ]
  },
  {
   "cell_type": "code",
   "execution_count": 6,
   "id": "11e77239",
   "metadata": {},
   "outputs": [],
   "source": [
    "# Feature Scaling\n",
    "from sklearn.preprocessing import MinMaxScaler\n",
    "\n",
    "sc = MinMaxScaler(feature_range = (0, 1))\n",
    "training_set_scaled = sc.fit_transform(training_set)"
   ]
  },
  {
   "cell_type": "code",
   "execution_count": 7,
   "id": "e1897f2c",
   "metadata": {},
   "outputs": [
    {
     "data": {
      "text/plain": [
       "array([[0.15572578, 0.15200584, 0.14812132, ..., 1.        , 0.        ,\n",
       "        1.        ],\n",
       "       [0.1467345 , 0.15868912, 0.14777366, ..., 0.        , 0.        ,\n",
       "        0.        ],\n",
       "       [0.16235323, 0.15929227, 0.16102838, ..., 1.        , 0.        ,\n",
       "        1.        ],\n",
       "       ...,\n",
       "       [1.        , 1.        , 1.        , ..., 0.        , 0.        ,\n",
       "        0.        ],\n",
       "       [0.99833585, 0.99928011, 0.99952349, ..., 0.        , 0.        ,\n",
       "        0.        ],\n",
       "       [0.99507314, 0.99508968, 0.99652586, ..., 0.        , 0.        ,\n",
       "        0.        ]])"
      ]
     },
     "execution_count": 7,
     "metadata": {},
     "output_type": "execute_result"
    }
   ],
   "source": [
    "training_set_scaled"
   ]
  },
  {
   "cell_type": "code",
   "execution_count": 8,
   "id": "4267bfd4",
   "metadata": {},
   "outputs": [
    {
     "data": {
      "text/plain": [
       "(5000, 1, 20)"
      ]
     },
     "execution_count": 8,
     "metadata": {},
     "output_type": "execute_result"
    }
   ],
   "source": [
    "training_set_scaled = training_set_scaled.reshape(5000,1,20)\n",
    "training_set_scaled.shape"
   ]
  },
  {
   "cell_type": "code",
   "execution_count": 9,
   "id": "470c7cfa",
   "metadata": {},
   "outputs": [],
   "source": [
    "from sklearn.model_selection import train_test_split\n",
    "\n",
    "x_train, x_test, y_train, y_test = train_test_split(training_set_scaled, label, test_size=0.3, random_state=42)"
   ]
  },
  {
   "cell_type": "code",
   "execution_count": 10,
   "id": "65a1a0c7",
   "metadata": {},
   "outputs": [
    {
     "data": {
      "text/plain": [
       "(3500, 1, 20)"
      ]
     },
     "execution_count": 10,
     "metadata": {},
     "output_type": "execute_result"
    }
   ],
   "source": [
    "x_train.shape"
   ]
  },
  {
   "cell_type": "code",
   "execution_count": 11,
   "id": "443f2822",
   "metadata": {},
   "outputs": [],
   "source": [
    "def cw(label):\n",
    "    c0, c1 = np.bincount(label)\n",
    "    w0 = (1 / c0) * (len(label)) /4\n",
    "    w1 = (1 / c1) * (len(label)) /4\n",
    "    return {0: w0, 1: w1}"
   ]
  },
  {
   "cell_type": "code",
   "execution_count": 12,
   "id": "4aa80046",
   "metadata": {},
   "outputs": [
    {
     "data": {
      "text/plain": [
       "{0: 0.5577867023650156, 1: 0.45306270387821673}"
      ]
     },
     "execution_count": 12,
     "metadata": {},
     "output_type": "execute_result"
    }
   ],
   "source": [
    "cw(label)"
   ]
  },
  {
   "cell_type": "code",
   "execution_count": 13,
   "id": "ac03f115",
   "metadata": {},
   "outputs": [
    {
     "name": "stderr",
     "output_type": "stream",
     "text": [
      "2022-02-22 13:51:07.753204: I tensorflow/core/platform/cpu_feature_guard.cc:151] This TensorFlow binary is optimized with oneAPI Deep Neural Network Library (oneDNN) to use the following CPU instructions in performance-critical operations:  AVX2 FMA\n",
      "To enable them in other operations, rebuild TensorFlow with the appropriate compiler flags.\n"
     ]
    }
   ],
   "source": [
    "# Import the Keras libraries and packages\n",
    "from keras.models import Sequential\n",
    "from keras.layers import Dense\n",
    "from keras.layers import LSTM\n",
    "from keras.layers import Dropout\n",
    "import keras\n",
    "\n",
    "# Initialising the RNN\n",
    "model = Sequential()"
   ]
  },
  {
   "cell_type": "code",
   "execution_count": 14,
   "id": "7673f478",
   "metadata": {},
   "outputs": [],
   "source": [
    "# Adding the first LSTM layer and some Dropout regularisation\n",
    "model.add(LSTM(units = 100, return_sequences = True, input_shape = (1, 20)))\n",
    "# Adding the output layer\n",
    "model.add(Dense(units = 100))\n",
    "\n",
    "# Adding a second LSTM layer and some Dropout regularisation\n",
    "model.add(LSTM(units = 100, return_sequences = True))\n",
    "\n",
    "# Adding a second LSTM layer and some Dropout regularisation\n",
    "model.add(LSTM(units = 50, return_sequences = True))\n",
    "# Adding the output layer\n",
    "model.add(Dense(units = 50))\n",
    "\n",
    "# Adding a second LSTM layer and some Dropout regularisation\n",
    "model.add(LSTM(units = 10))\n",
    "# Adding the output layer\n",
    "model.add(Dense(units = 10))\n",
    "\n",
    "# Adding the output layer\n",
    "model.add(Dense(units = 1))"
   ]
  },
  {
   "cell_type": "code",
   "execution_count": 15,
   "id": "8d0d3d83",
   "metadata": {},
   "outputs": [
    {
     "name": "stdout",
     "output_type": "stream",
     "text": [
      "Model: \"sequential\"\n",
      "_________________________________________________________________\n",
      " Layer (type)                Output Shape              Param #   \n",
      "=================================================================\n",
      " lstm (LSTM)                 (None, 1, 100)            48400     \n",
      "                                                                 \n",
      " dense (Dense)               (None, 1, 100)            10100     \n",
      "                                                                 \n",
      " lstm_1 (LSTM)               (None, 1, 100)            80400     \n",
      "                                                                 \n",
      " lstm_2 (LSTM)               (None, 1, 50)             30200     \n",
      "                                                                 \n",
      " dense_1 (Dense)             (None, 1, 50)             2550      \n",
      "                                                                 \n",
      " lstm_3 (LSTM)               (None, 10)                2440      \n",
      "                                                                 \n",
      " dense_2 (Dense)             (None, 10)                110       \n",
      "                                                                 \n",
      " dense_3 (Dense)             (None, 1)                 11        \n",
      "                                                                 \n",
      "=================================================================\n",
      "Total params: 174,211\n",
      "Trainable params: 174,211\n",
      "Non-trainable params: 0\n",
      "_________________________________________________________________\n",
      "Epoch 1/50\n",
      "117/117 [==============================] - 18s 38ms/step - loss: 0.4647 - accuracy: 0.5277\n",
      "Epoch 2/50\n",
      "117/117 [==============================] - 6s 52ms/step - loss: 0.2894 - accuracy: 0.7203\n",
      "Epoch 3/50\n",
      "117/117 [==============================] - 5s 44ms/step - loss: 0.2860 - accuracy: 0.7314\n",
      "Epoch 4/50\n",
      "117/117 [==============================] - 4s 36ms/step - loss: 0.2861 - accuracy: 0.7274\n",
      "Epoch 5/50\n",
      "117/117 [==============================] - 4s 33ms/step - loss: 0.2870 - accuracy: 0.7266\n",
      "Epoch 6/50\n",
      "117/117 [==============================] - 5s 44ms/step - loss: 0.2877 - accuracy: 0.7266\n",
      "Epoch 7/50\n",
      "117/117 [==============================] - 4s 31ms/step - loss: 0.2869 - accuracy: 0.7294\n",
      "Epoch 8/50\n",
      "117/117 [==============================] - 6s 47ms/step - loss: 0.2866 - accuracy: 0.7291\n",
      "Epoch 9/50\n",
      "117/117 [==============================] - 4s 33ms/step - loss: 0.2868 - accuracy: 0.7286\n",
      "Epoch 10/50\n",
      "117/117 [==============================] - 5s 39ms/step - loss: 0.2862 - accuracy: 0.7311\n",
      "Epoch 11/50\n",
      "117/117 [==============================] - 3s 30ms/step - loss: 0.2860 - accuracy: 0.7306\n",
      "Epoch 12/50\n",
      "117/117 [==============================] - 5s 43ms/step - loss: 0.2862 - accuracy: 0.7303\n",
      "Epoch 13/50\n",
      "117/117 [==============================] - 2s 17ms/step - loss: 0.2873 - accuracy: 0.7263\n",
      "Epoch 14/50\n",
      "117/117 [==============================] - 2s 14ms/step - loss: 0.2870 - accuracy: 0.7260\n",
      "Epoch 15/50\n",
      "117/117 [==============================] - 2s 14ms/step - loss: 0.2874 - accuracy: 0.7274\n",
      "Epoch 16/50\n",
      "117/117 [==============================] - 2s 14ms/step - loss: 0.2874 - accuracy: 0.7277\n",
      "Epoch 17/50\n",
      "117/117 [==============================] - 2s 14ms/step - loss: 0.2869 - accuracy: 0.7323\n",
      "Epoch 18/50\n",
      "117/117 [==============================] - 2s 16ms/step - loss: 0.2879 - accuracy: 0.7337\n",
      "Epoch 19/50\n",
      "117/117 [==============================] - 2s 20ms/step - loss: 0.2864 - accuracy: 0.7309\n",
      "Epoch 20/50\n",
      "117/117 [==============================] - 2s 14ms/step - loss: 0.2863 - accuracy: 0.7317\n",
      "Epoch 21/50\n",
      "117/117 [==============================] - 2s 14ms/step - loss: 0.2854 - accuracy: 0.7331\n",
      "Epoch 22/50\n",
      "117/117 [==============================] - 2s 15ms/step - loss: 0.2863 - accuracy: 0.7286\n",
      "Epoch 23/50\n",
      "117/117 [==============================] - 2s 15ms/step - loss: 0.2874 - accuracy: 0.7280\n",
      "Epoch 24/50\n",
      "117/117 [==============================] - 2s 14ms/step - loss: 0.2866 - accuracy: 0.7286\n",
      "Epoch 25/50\n",
      "117/117 [==============================] - 2s 14ms/step - loss: 0.2868 - accuracy: 0.7251\n",
      "Epoch 26/50\n",
      "117/117 [==============================] - 2s 14ms/step - loss: 0.2867 - accuracy: 0.7266\n",
      "Epoch 27/50\n",
      "117/117 [==============================] - 2s 13ms/step - loss: 0.2857 - accuracy: 0.7297\n",
      "Epoch 28/50\n",
      "117/117 [==============================] - 3s 27ms/step - loss: 0.2866 - accuracy: 0.7277\n",
      "Epoch 29/50\n",
      "117/117 [==============================] - 3s 29ms/step - loss: 0.2880 - accuracy: 0.7289 1s -\n",
      "Epoch 30/50\n",
      "117/117 [==============================] - 4s 37ms/step - loss: 0.2855 - accuracy: 0.7266\n",
      "Epoch 31/50\n",
      "117/117 [==============================] - 4s 31ms/step - loss: 0.2865 - accuracy: 0.7314\n",
      "Epoch 32/50\n",
      "117/117 [==============================] - 3s 26ms/step - loss: 0.2861 - accuracy: 0.7269\n",
      "Epoch 33/50\n",
      "117/117 [==============================] - 3s 30ms/step - loss: 0.2870 - accuracy: 0.7289\n",
      "Epoch 34/50\n",
      "117/117 [==============================] - 3s 24ms/step - loss: 0.2860 - accuracy: 0.7277\n",
      "Epoch 35/50\n",
      "117/117 [==============================] - 3s 26ms/step - loss: 0.2866 - accuracy: 0.7249\n",
      "Epoch 36/50\n",
      "117/117 [==============================] - 2s 14ms/step - loss: 0.2870 - accuracy: 0.7286\n",
      "Epoch 37/50\n",
      "117/117 [==============================] - 2s 18ms/step - loss: 0.2858 - accuracy: 0.7260\n",
      "Epoch 38/50\n",
      "117/117 [==============================] - 2s 14ms/step - loss: 0.2861 - accuracy: 0.7277\n",
      "Epoch 39/50\n",
      "117/117 [==============================] - 2s 18ms/step - loss: 0.2876 - accuracy: 0.7234\n",
      "Epoch 40/50\n",
      "117/117 [==============================] - 4s 31ms/step - loss: 0.2866 - accuracy: 0.7311\n",
      "Epoch 41/50\n",
      "117/117 [==============================] - 2s 14ms/step - loss: 0.2869 - accuracy: 0.7266\n",
      "Epoch 42/50\n",
      "117/117 [==============================] - 2s 15ms/step - loss: 0.2860 - accuracy: 0.7297 0s - loss: 0.2850 - accuracy: \n",
      "Epoch 43/50\n",
      "117/117 [==============================] - 2s 14ms/step - loss: 0.2861 - accuracy: 0.7240\n",
      "Epoch 44/50\n",
      "117/117 [==============================] - 2s 14ms/step - loss: 0.2868 - accuracy: 0.7254\n",
      "Epoch 45/50\n",
      "117/117 [==============================] - 2s 14ms/step - loss: 0.2860 - accuracy: 0.7303\n",
      "Epoch 46/50\n",
      "117/117 [==============================] - 2s 13ms/step - loss: 0.2850 - accuracy: 0.7306\n",
      "Epoch 47/50\n",
      "117/117 [==============================] - 1s 11ms/step - loss: 0.2857 - accuracy: 0.7269\n",
      "Epoch 48/50\n",
      "117/117 [==============================] - 1s 11ms/step - loss: 0.2857 - accuracy: 0.7311\n",
      "Epoch 49/50\n",
      "117/117 [==============================] - 1s 11ms/step - loss: 0.2871 - accuracy: 0.7309\n",
      "Epoch 50/50\n",
      "117/117 [==============================] - 2s 13ms/step - loss: 0.2849 - accuracy: 0.7346\n"
     ]
    }
   ],
   "source": [
    "# Compiling\n",
    "model.compile(optimizer = 'adam', loss = 'binary_crossentropy', metrics=['accuracy'])\n",
    "model.summary()\n",
    "\n",
    "# y不均勻 調整class weight\n",
    "train_history = model.fit(x_train, y_train, epochs = 50, batch_size = 30, verbose=1, class_weight=cw(label))\n"
   ]
  },
  {
   "cell_type": "code",
   "execution_count": 16,
   "id": "921e2bf7",
   "metadata": {},
   "outputs": [
    {
     "data": {
      "text/plain": [
       "[<matplotlib.lines.Line2D at 0x7f87c3741d30>]"
      ]
     },
     "execution_count": 16,
     "metadata": {},
     "output_type": "execute_result"
    },
    {
     "data": {
      "image/png": "[encoded data removed]",
      "text/plain": [
       "<Figure size 432x288 with 1 Axes>"
      ]
     },
     "metadata": {},
     "output_type": "display_data"
    }
   ],
   "source": [
    "plt.plot(train_history.history['loss'])\n",
    "plt.plot(train_history.history['accuracy'])"
   ]
  },
  {
   "cell_type": "code",
   "execution_count": 17,
   "id": "41b77afa",
   "metadata": {},
   "outputs": [
    {
     "data": {
      "text/html": [
       "<div>\n",
       "<style scoped>\n",
       "    .dataframe tbody tr th:only-of-type {\n",
       "        vertical-align: middle;\n",
       "    }\n",
       "\n",
       "    .dataframe tbody tr th {\n",
       "        vertical-align: top;\n",
       "    }\n",
       "\n",
       "    .dataframe thead th {\n",
       "        text-align: right;\n",
       "    }\n",
       "</style>\n",
       "<table border=\"1\" class=\"dataframe\">\n",
       "  <thead>\n",
       "    <tr style=\"text-align: right;\">\n",
       "      <th></th>\n",
       "      <th>Date</th>\n",
       "      <th>sp_Open</th>\n",
       "      <th>sp_High</th>\n",
       "      <th>sp_Low</th>\n",
       "      <th>sp_Close</th>\n",
       "      <th>nd_Open</th>\n",
       "      <th>nd_High</th>\n",
       "      <th>nd_Low</th>\n",
       "      <th>nd_Close</th>\n",
       "      <th>dj_Open</th>\n",
       "      <th>dj_High</th>\n",
       "      <th>dj_Low</th>\n",
       "      <th>dj_Close</th>\n",
       "      <th>ph_Open</th>\n",
       "      <th>ph_High</th>\n",
       "      <th>ph_Low</th>\n",
       "      <th>ph_Close</th>\n",
       "    </tr>\n",
       "  </thead>\n",
       "  <tbody>\n",
       "    <tr>\n",
       "      <th>0</th>\n",
       "      <td>2021-01-04</td>\n",
       "      <td>3764.61</td>\n",
       "      <td>4394.60</td>\n",
       "      <td>4327.22</td>\n",
       "      <td>3700.65</td>\n",
       "      <td>2821.99</td>\n",
       "      <td>12958.72</td>\n",
       "      <td>12543.24</td>\n",
       "      <td>2783.21</td>\n",
       "      <td>30627.47</td>\n",
       "      <td>30674.28</td>\n",
       "      <td>29881.82</td>\n",
       "      <td>30223.89</td>\n",
       "      <td>2821.99</td>\n",
       "      <td>2872.20</td>\n",
       "      <td>2763.09</td>\n",
       "      <td>2783.21</td>\n",
       "    </tr>\n",
       "    <tr>\n",
       "      <th>1</th>\n",
       "      <td>2021-01-05</td>\n",
       "      <td>3698.02</td>\n",
       "      <td>4456.06</td>\n",
       "      <td>4373.81</td>\n",
       "      <td>3726.86</td>\n",
       "      <td>2783.18</td>\n",
       "      <td>12828.27</td>\n",
       "      <td>12665.65</td>\n",
       "      <td>2837.17</td>\n",
       "      <td>30204.25</td>\n",
       "      <td>30504.89</td>\n",
       "      <td>30141.78</td>\n",
       "      <td>30391.60</td>\n",
       "      <td>2783.18</td>\n",
       "      <td>2838.19</td>\n",
       "      <td>2782.62</td>\n",
       "      <td>2837.17</td>\n",
       "    </tr>\n",
       "    <tr>\n",
       "      <th>2</th>\n",
       "      <td>2021-01-06</td>\n",
       "      <td>3712.20</td>\n",
       "      <td>4489.55</td>\n",
       "      <td>4429.68</td>\n",
       "      <td>3748.14</td>\n",
       "      <td>2820.86</td>\n",
       "      <td>12909.63</td>\n",
       "      <td>12649.99</td>\n",
       "      <td>2827.96</td>\n",
       "      <td>30362.78</td>\n",
       "      <td>31022.65</td>\n",
       "      <td>30313.07</td>\n",
       "      <td>30829.40</td>\n",
       "      <td>2820.86</td>\n",
       "      <td>2884.61</td>\n",
       "      <td>2803.52</td>\n",
       "      <td>2827.96</td>\n",
       "    </tr>\n",
       "    <tr>\n",
       "      <th>3</th>\n",
       "      <td>2021-01-07</td>\n",
       "      <td>3764.71</td>\n",
       "      <td>4472.77</td>\n",
       "      <td>4429.28</td>\n",
       "      <td>3803.79</td>\n",
       "      <td>2873.66</td>\n",
       "      <td>13090.91</td>\n",
       "      <td>12867.34</td>\n",
       "      <td>2937.00</td>\n",
       "      <td>30901.18</td>\n",
       "      <td>31193.40</td>\n",
       "      <td>30897.86</td>\n",
       "      <td>31041.13</td>\n",
       "      <td>2873.66</td>\n",
       "      <td>2943.88</td>\n",
       "      <td>2873.17</td>\n",
       "      <td>2937.00</td>\n",
       "    </tr>\n",
       "    <tr>\n",
       "      <th>4</th>\n",
       "      <td>2021-01-08</td>\n",
       "      <td>3815.05</td>\n",
       "      <td>4426.22</td>\n",
       "      <td>4364.84</td>\n",
       "      <td>3824.68</td>\n",
       "      <td>2982.33</td>\n",
       "      <td>13208.09</td>\n",
       "      <td>13036.55</td>\n",
       "      <td>2936.47</td>\n",
       "      <td>31069.58</td>\n",
       "      <td>31140.67</td>\n",
       "      <td>30793.27</td>\n",
       "      <td>31097.97</td>\n",
       "      <td>2982.33</td>\n",
       "      <td>2994.07</td>\n",
       "      <td>2904.54</td>\n",
       "      <td>2936.47</td>\n",
       "    </tr>\n",
       "    <tr>\n",
       "      <th>...</th>\n",
       "      <td>...</td>\n",
       "      <td>...</td>\n",
       "      <td>...</td>\n",
       "      <td>...</td>\n",
       "      <td>...</td>\n",
       "      <td>...</td>\n",
       "      <td>...</td>\n",
       "      <td>...</td>\n",
       "      <td>...</td>\n",
       "      <td>...</td>\n",
       "      <td>...</td>\n",
       "      <td>...</td>\n",
       "      <td>...</td>\n",
       "      <td>...</td>\n",
       "      <td>...</td>\n",
       "      <td>...</td>\n",
       "      <td>...</td>\n",
       "    </tr>\n",
       "    <tr>\n",
       "      <th>281</th>\n",
       "      <td>2022-02-14</td>\n",
       "      <td>4412.61</td>\n",
       "      <td>3826.69</td>\n",
       "      <td>3783.60</td>\n",
       "      <td>4401.67</td>\n",
       "      <td>3376.12</td>\n",
       "      <td>13921.71</td>\n",
       "      <td>13664.76</td>\n",
       "      <td>3370.20</td>\n",
       "      <td>34694.50</td>\n",
       "      <td>34744.56</td>\n",
       "      <td>34304.28</td>\n",
       "      <td>34566.17</td>\n",
       "      <td>3376.12</td>\n",
       "      <td>3433.08</td>\n",
       "      <td>3324.55</td>\n",
       "      <td>3370.20</td>\n",
       "    </tr>\n",
       "    <tr>\n",
       "      <th>282</th>\n",
       "      <td>2022-02-15</td>\n",
       "      <td>4429.28</td>\n",
       "      <td>3811.55</td>\n",
       "      <td>3764.71</td>\n",
       "      <td>4471.07</td>\n",
       "      <td>3439.10</td>\n",
       "      <td>14142.49</td>\n",
       "      <td>13976.29</td>\n",
       "      <td>3554.45</td>\n",
       "      <td>34686.19</td>\n",
       "      <td>35047.79</td>\n",
       "      <td>34686.19</td>\n",
       "      <td>34988.84</td>\n",
       "      <td>3439.10</td>\n",
       "      <td>3559.77</td>\n",
       "      <td>3433.00</td>\n",
       "      <td>3554.45</td>\n",
       "    </tr>\n",
       "    <tr>\n",
       "      <th>283</th>\n",
       "      <td>2022-02-16</td>\n",
       "      <td>4455.75</td>\n",
       "      <td>3783.04</td>\n",
       "      <td>3705.34</td>\n",
       "      <td>4475.01</td>\n",
       "      <td>3511.21</td>\n",
       "      <td>14163.73</td>\n",
       "      <td>13931.99</td>\n",
       "      <td>3555.69</td>\n",
       "      <td>34951.83</td>\n",
       "      <td>35042.09</td>\n",
       "      <td>34642.64</td>\n",
       "      <td>34934.27</td>\n",
       "      <td>3511.21</td>\n",
       "      <td>3567.00</td>\n",
       "      <td>3480.87</td>\n",
       "      <td>3555.69</td>\n",
       "    </tr>\n",
       "    <tr>\n",
       "      <th>284</th>\n",
       "      <td>2022-02-17</td>\n",
       "      <td>4456.06</td>\n",
       "      <td>3737.83</td>\n",
       "      <td>3695.07</td>\n",
       "      <td>4380.26</td>\n",
       "      <td>3509.09</td>\n",
       "      <td>14020.82</td>\n",
       "      <td>13704.70</td>\n",
       "      <td>3422.60</td>\n",
       "      <td>34858.47</td>\n",
       "      <td>34858.47</td>\n",
       "      <td>34246.23</td>\n",
       "      <td>34312.03</td>\n",
       "      <td>3509.09</td>\n",
       "      <td>3512.04</td>\n",
       "      <td>3420.85</td>\n",
       "      <td>3422.60</td>\n",
       "    </tr>\n",
       "    <tr>\n",
       "      <th>285</th>\n",
       "      <td>2022-02-18</td>\n",
       "      <td>4384.57</td>\n",
       "      <td>3769.99</td>\n",
       "      <td>3662.71</td>\n",
       "      <td>4348.87</td>\n",
       "      <td>3429.42</td>\n",
       "      <td>13762.40</td>\n",
       "      <td>13465.56</td>\n",
       "      <td>3384.30</td>\n",
       "      <td>34310.45</td>\n",
       "      <td>34423.58</td>\n",
       "      <td>33976.18</td>\n",
       "      <td>34079.18</td>\n",
       "      <td>3429.42</td>\n",
       "      <td>3432.38</td>\n",
       "      <td>3336.00</td>\n",
       "      <td>3384.30</td>\n",
       "    </tr>\n",
       "  </tbody>\n",
       "</table>\n",
       "<p>286 rows × 17 columns</p>\n",
       "</div>"
      ],
      "text/plain": [
       "           Date  sp_Open  sp_High   sp_Low  sp_Close  nd_Open   nd_High  \\\n",
       "0    2021-01-04  3764.61  4394.60  4327.22   3700.65  2821.99  12958.72   \n",
       "1    2021-01-05  3698.02  4456.06  4373.81   3726.86  2783.18  12828.27   \n",
       "2    2021-01-06  3712.20  4489.55  4429.68   3748.14  2820.86  12909.63   \n",
       "3    2021-01-07  3764.71  4472.77  4429.28   3803.79  2873.66  13090.91   \n",
       "4    2021-01-08  3815.05  4426.22  4364.84   3824.68  2982.33  13208.09   \n",
       "..          ...      ...      ...      ...       ...      ...       ...   \n",
       "281  2022-02-14  4412.61  3826.69  3783.60   4401.67  3376.12  13921.71   \n",
       "282  2022-02-15  4429.28  3811.55  3764.71   4471.07  3439.10  14142.49   \n",
       "283  2022-02-16  4455.75  3783.04  3705.34   4475.01  3511.21  14163.73   \n",
       "284  2022-02-17  4456.06  3737.83  3695.07   4380.26  3509.09  14020.82   \n",
       "285  2022-02-18  4384.57  3769.99  3662.71   4348.87  3429.42  13762.40   \n",
       "\n",
       "       nd_Low  nd_Close   dj_Open   dj_High    dj_Low  dj_Close  ph_Open  \\\n",
       "0    12543.24   2783.21  30627.47  30674.28  29881.82  30223.89  2821.99   \n",
       "1    12665.65   2837.17  30204.25  30504.89  30141.78  30391.60  2783.18   \n",
       "2    12649.99   2827.96  30362.78  31022.65  30313.07  30829.40  2820.86   \n",
       "3    12867.34   2937.00  30901.18  31193.40  30897.86  31041.13  2873.66   \n",
       "4    13036.55   2936.47  31069.58  31140.67  30793.27  31097.97  2982.33   \n",
       "..        ...       ...       ...       ...       ...       ...      ...   \n",
       "281  13664.76   3370.20  34694.50  34744.56  34304.28  34566.17  3376.12   \n",
       "282  13976.29   3554.45  34686.19  35047.79  34686.19  34988.84  3439.10   \n",
       "283  13931.99   3555.69  34951.83  35042.09  34642.64  34934.27  3511.21   \n",
       "284  13704.70   3422.60  34858.47  34858.47  34246.23  34312.03  3509.09   \n",
       "285  13465.56   3384.30  34310.45  34423.58  33976.18  34079.18  3429.42   \n",
       "\n",
       "     ph_High   ph_Low  ph_Close  \n",
       "0    2872.20  2763.09   2783.21  \n",
       "1    2838.19  2782.62   2837.17  \n",
       "2    2884.61  2803.52   2827.96  \n",
       "3    2943.88  2873.17   2937.00  \n",
       "4    2994.07  2904.54   2936.47  \n",
       "..       ...      ...       ...  \n",
       "281  3433.08  3324.55   3370.20  \n",
       "282  3559.77  3433.00   3554.45  \n",
       "283  3567.00  3480.87   3555.69  \n",
       "284  3512.04  3420.85   3422.60  \n",
       "285  3432.38  3336.00   3384.30  \n",
       "\n",
       "[286 rows x 17 columns]"
      ]
     },
     "execution_count": 17,
     "metadata": {},
     "output_type": "execute_result"
    }
   ],
   "source": [
    "testset = pd.read_csv('input/test20220218.csv')\n",
    "testset\n"
   ]
  },
  {
   "cell_type": "code",
   "execution_count": 37,
   "id": "5f8b5b81",
   "metadata": {},
   "outputs": [],
   "source": [
    "testset['sp_trend'] = np.where(testset.sp_Close.shift(-5) > testset.sp_Close, 1, 0)\n",
    "testset['nd_trend'] = np.where(testset.nd_Close.shift(-5) > testset.nd_Close, 1, 0)\n",
    "testset['dj_trend'] = np.where(testset.dj_Close.shift(-5) > testset.dj_Close, 1, 0)\n",
    "testset['ph_trend'] = np.where(testset.ph_Close.shift(-5) > testset.ph_Close, 1, 0)"
   ]
  },
  {
   "cell_type": "code",
   "execution_count": 20,
   "id": "0beb115a",
   "metadata": {},
   "outputs": [
    {
     "name": "stdout",
     "output_type": "stream",
     "text": [
      "<class 'pandas.core.frame.DataFrame'>\n",
      "Int64Index: 5286 entries, 0 to 285\n",
      "Data columns (total 20 columns):\n",
      " #   Column    Non-Null Count  Dtype  \n",
      "---  ------    --------------  -----  \n",
      " 0   sp_Open   5286 non-null   float64\n",
      " 1   sp_High   5286 non-null   float64\n",
      " 2   sp_Low    5286 non-null   float64\n",
      " 3   sp_Close  5286 non-null   float64\n",
      " 4   nd_Open   5286 non-null   float64\n",
      " 5   nd_High   5286 non-null   float64\n",
      " 6   nd_Low    5286 non-null   float64\n",
      " 7   nd_Close  5286 non-null   float64\n",
      " 8   dj_Open   5286 non-null   float64\n",
      " 9   dj_High   5286 non-null   float64\n",
      " 10  dj_Low    5286 non-null   float64\n",
      " 11  dj_Close  5286 non-null   float64\n",
      " 12  ph_Open   5286 non-null   float64\n",
      " 13  ph_High   5286 non-null   float64\n",
      " 14  ph_Low    5286 non-null   float64\n",
      " 15  ph_Close  5286 non-null   float64\n",
      " 16  sp_trend  5000 non-null   float64\n",
      " 17  nd_trend  5000 non-null   float64\n",
      " 18  dj_trend  5000 non-null   float64\n",
      " 19  ph_trend  5000 non-null   float64\n",
      "dtypes: float64(20)\n",
      "memory usage: 867.2 KB\n"
     ]
    }
   ],
   "source": [
    "dataset_total = pd.concat([dataset, testset], axis=0)\n",
    "dataset_total = dataset_total.drop('Date', axis=1)\n",
    "dataset_total.info()"
   ]
  },
  {
   "cell_type": "raw",
   "id": "b7ea255f",
   "metadata": {},
   "source": [
    "testset_scaled = sc.fit_transform(dataset_total)\n",
    "testset_scaled = testset_scaled.reshape(5286,1,20)"
   ]
  },
  {
   "cell_type": "code",
   "execution_count": 40,
   "id": "3912fd9e",
   "metadata": {},
   "outputs": [],
   "source": [
    "result = model.predict(testset_scaled)"
   ]
  },
  {
   "cell_type": "code",
   "execution_count": 41,
   "id": "d8405933",
   "metadata": {},
   "outputs": [
    {
     "data": {
      "image/png": "[encoded data removed]",
      "text/plain": [
       "<Figure size 432x288 with 1 Axes>"
      ]
     },
     "metadata": {},
     "output_type": "display_data"
    }
   ],
   "source": [
    "# Visualising the results\n",
    "plt.plot(label, color = 'red', label = 'Real trend')  # 紅線表示真實股價\n",
    "plt.plot(result, color = 'blue', label = 'Prediction')  # 藍線表示預測股價\n",
    "plt.title('Prediction')\n",
    "plt.xlabel('Time')\n",
    "plt.ylabel('Real trend')\n",
    "plt.legend()\n",
    "plt.show()"
   ]
  },
  {
   "cell_type": "code",
   "execution_count": 42,
   "id": "8d518e17",
   "metadata": {},
   "outputs": [
    {
     "data": {
      "text/plain": [
       "array([[0.65149915],\n",
       "       [0.20933326],\n",
       "       [0.57337993],\n",
       "       ...,\n",
       "       [0.18310031],\n",
       "       [0.18363892],\n",
       "       [0.18300948]], dtype=float32)"
      ]
     },
     "execution_count": 42,
     "metadata": {},
     "output_type": "execute_result"
    }
   ],
   "source": [
    "result"
   ]
  },
  {
   "cell_type": "code",
   "execution_count": 43,
   "id": "a0d1e2da",
   "metadata": {},
   "outputs": [
    {
     "data": {
      "text/plain": [
       "array([[0.77601695],\n",
       "       [0.19478276],\n",
       "       [0.40276554],\n",
       "       [0.40196708],\n",
       "       [0.19333065],\n",
       "       [0.19237766],\n",
       "       [0.74445415],\n",
       "       [0.1904519 ],\n",
       "       [0.77690154],\n",
       "       [0.7748554 ],\n",
       "       [0.7748942 ],\n",
       "       [0.77627516],\n",
       "       [0.7764446 ],\n",
       "       [0.777336  ],\n",
       "       [0.40079382],\n",
       "       [0.7785396 ],\n",
       "       [0.1924897 ],\n",
       "       [0.19158939],\n",
       "       [0.19147098],\n",
       "       [0.19175561],\n",
       "       [0.19138037],\n",
       "       [0.7474372 ],\n",
       "       [0.18849835],\n",
       "       [0.670689  ],\n",
       "       [0.18503828],\n",
       "       [0.18703695],\n",
       "       [0.18963112],\n",
       "       [0.1912446 ],\n",
       "       [0.18881671],\n",
       "       [0.19072145],\n",
       "       [0.1890294 ],\n",
       "       [0.18578582],\n",
       "       [0.38987508],\n",
       "       [0.76958144],\n",
       "       [0.7694146 ],\n",
       "       [0.7705234 ],\n",
       "       [0.7689779 ],\n",
       "       [0.76645154],\n",
       "       [0.17748094],\n",
       "       [0.70593303],\n",
       "       [0.7077972 ],\n",
       "       [0.770147  ],\n",
       "       [0.17802621],\n",
       "       [0.17946665],\n",
       "       [0.65640056],\n",
       "       [0.18090759],\n",
       "       [0.18243074],\n",
       "       [0.6583103 ],\n",
       "       [0.1793843 ],\n",
       "       [0.1813533 ],\n",
       "       [0.18310031],\n",
       "       [0.18363892]], dtype=float32)"
      ]
     },
     "execution_count": 43,
     "metadata": {},
     "output_type": "execute_result"
    }
   ],
   "source": [
    "result[-53:-1]"
   ]
  },
  {
   "cell_type": "code",
   "execution_count": 25,
   "id": "1bc2cc9c",
   "metadata": {},
   "outputs": [],
   "source": [
    "# model.save('input/lstm_stock.h5')"
   ]
  },
  {
   "cell_type": "code",
   "execution_count": 44,
   "id": "dad58dcd",
   "metadata": {},
   "outputs": [],
   "source": [
    "testset.to_csv('input/testdata_forline.csv')"
   ]
  },
  {
   "cell_type": "code",
   "execution_count": null,
   "id": "392abc6c",
   "metadata": {},
   "outputs": [],
   "source": []
  }
 ],
 "metadata": {
  "kernelspec": {
   "display_name": "Python 3 (ipykernel)",
   "language": "python",
   "name": "python3"
  },
  "language_info": {
   "codemirror_mode": {
    "name": "ipython",
    "version": 3
   },
   "file_extension": ".py",
   "mimetype": "text/x-python",
   "name": "python",
   "nbconvert_exporter": "python",
   "pygments_lexer": "ipython3",
   "version": "3.8.12"
  }
 },
 "nbformat": 4,
 "nbformat_minor": 5
}
